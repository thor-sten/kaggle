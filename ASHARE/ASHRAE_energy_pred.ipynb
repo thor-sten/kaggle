{
 "cells": [
  {
   "cell_type": "markdown",
   "metadata": {},
   "source": [
    "# Kaggle competition: ASHRAE - Great Energy Predictor III"
   ]
  },
  {
   "cell_type": "code",
   "execution_count": 1,
   "metadata": {},
   "outputs": [],
   "source": [
    "# Thorsten\n",
    "\n",
    "import os\n",
    "import numpy as np\n",
    "import pandas as pd\n",
    "import matplotlib as plt\n",
    "from sklearn.model_selection import train_test_split\n",
    "from sklearn.metrics import mean_squared_log_error\n",
    "from timeit import default_timer as timer"
   ]
  },
  {
   "cell_type": "code",
   "execution_count": 4,
   "metadata": {},
   "outputs": [
    {
     "name": "stdout",
     "output_type": "stream",
     "text": [
      "input/\n",
      "['building_metadata.csv', 'sample_submission.csv', 'test.csv', 'train.csv', 'weather_test.csv', 'weather_train.csv']\n"
     ]
    }
   ],
   "source": [
    "# Check available data files\n",
    "datafiles = []\n",
    "for dirname, _, filenames in os.walk('input/'):\n",
    "    datadir = dirname\n",
    "    for filename in filenames:\n",
    "        datafiles.append(filename)\n",
    "\n",
    "print(datadir)\n",
    "print(datafiles)\n",
    "# os.path.join(dirname, filename)"
   ]
  },
  {
   "cell_type": "code",
   "execution_count": 5,
   "metadata": {},
   "outputs": [
    {
     "name": "stdout",
     "output_type": "stream",
     "text": [
      "   site_id  building_id primary_use  square_feet  year_built  floor_count\n",
      "0        0            0   Education         7432      2008.0          NaN\n",
      "1        0            1   Education         2720      2004.0          NaN\n",
      "2        0            2   Education         5376      1991.0          NaN\n",
      "3        0            3   Education        23685      2002.0          NaN\n",
      "4        0            4   Education       116607      1975.0          NaN\n",
      "   building_id  meter            timestamp  meter_reading\n",
      "0            0      0  2016-01-01 00:00:00            0.0\n",
      "1            1      0  2016-01-01 00:00:00            0.0\n",
      "2            2      0  2016-01-01 00:00:00            0.0\n",
      "3            3      0  2016-01-01 00:00:00            0.0\n",
      "4            4      0  2016-01-01 00:00:00            0.0\n",
      "   row_id  building_id  meter            timestamp\n",
      "0       0            0      0  2017-01-01 00:00:00\n",
      "1       1            1      0  2017-01-01 00:00:00\n",
      "2       2            2      0  2017-01-01 00:00:00\n",
      "3       3            3      0  2017-01-01 00:00:00\n",
      "4       4            4      0  2017-01-01 00:00:00\n"
     ]
    }
   ],
   "source": [
    "# Read data\n",
    "buildings = pd.read_csv(os.path.join(datadir, 'building_metadata.csv'))\n",
    "train = pd.read_csv(os.path.join(datadir, 'train.csv'))\n",
    "test = pd.read_csv(os.path.join(datadir, 'test.csv'))\n",
    "\n",
    "print(buildings.head())\n",
    "print(train.head())\n",
    "print(test.head())"
   ]
  },
  {
   "cell_type": "code",
   "execution_count": 6,
   "metadata": {},
   "outputs": [
    {
     "name": "stdout",
     "output_type": "stream",
     "text": [
      "Number of readings: 20216100\n",
      "Number of buildings: 1449\n",
      "Average number of meter readings per building: 5604.807453416149\n"
     ]
    }
   ],
   "source": [
    "# Explore dataset\n",
    "print('Number of readings:', train['building_id'].count())\n",
    "print('Number of buildings:', train['building_id'].nunique())\n",
    "print('Average number of meter readings per building:', train.groupby('building_id')['meter_reading'].nunique().mean())"
   ]
  },
  {
   "cell_type": "code",
   "execution_count": 7,
   "metadata": {},
   "outputs": [
    {
     "data": {
      "text/plain": [
       "building_id  meter\n",
       "9            0          72.7147\n",
       "             1         664.8260\n",
       "10           0         980.9485\n",
       "11           0         296.3925\n",
       "12           0         143.4260\n",
       "13           0         228.0089\n",
       "             1        2007.9555\n",
       "14           0         259.5876\n",
       "             1        2521.5515\n",
       "15           0         164.8777\n",
       "Name: meter_reading, dtype: float64"
      ]
     },
     "execution_count": 7,
     "metadata": {},
     "output_type": "execute_result"
    }
   ],
   "source": [
    "# Average meter reading for all buildings and meter types\n",
    "averages = train.groupby(['building_id', 'meter'])['meter_reading'].mean().round(4)\n",
    "averages[10:20]"
   ]
  },
  {
   "cell_type": "code",
   "execution_count": 8,
   "metadata": {},
   "outputs": [
    {
     "data": {
      "text/html": [
       "<div>\n",
       "<style scoped>\n",
       "    .dataframe tbody tr th:only-of-type {\n",
       "        vertical-align: middle;\n",
       "    }\n",
       "\n",
       "    .dataframe tbody tr th {\n",
       "        vertical-align: top;\n",
       "    }\n",
       "\n",
       "    .dataframe thead th {\n",
       "        text-align: right;\n",
       "    }\n",
       "</style>\n",
       "<table border=\"1\" class=\"dataframe\">\n",
       "  <thead>\n",
       "    <tr style=\"text-align: right;\">\n",
       "      <th></th>\n",
       "      <th>building_id</th>\n",
       "      <th>meter</th>\n",
       "      <th>timestamp</th>\n",
       "      <th>meter_reading</th>\n",
       "    </tr>\n",
       "  </thead>\n",
       "  <tbody>\n",
       "    <tr>\n",
       "      <th>13651548</th>\n",
       "      <td>844</td>\n",
       "      <td>0</td>\n",
       "      <td>2016-09-06 04:00:00</td>\n",
       "      <td>20.100</td>\n",
       "    </tr>\n",
       "    <tr>\n",
       "      <th>19446744</th>\n",
       "      <td>133</td>\n",
       "      <td>0</td>\n",
       "      <td>2016-12-18 10:00:00</td>\n",
       "      <td>55.700</td>\n",
       "    </tr>\n",
       "    <tr>\n",
       "      <th>3629289</th>\n",
       "      <td>19</td>\n",
       "      <td>0</td>\n",
       "      <td>2016-03-09 11:00:00</td>\n",
       "      <td>0.000</td>\n",
       "    </tr>\n",
       "    <tr>\n",
       "      <th>9566520</th>\n",
       "      <td>1003</td>\n",
       "      <td>1</td>\n",
       "      <td>2016-06-25 02:00:00</td>\n",
       "      <td>117.267</td>\n",
       "    </tr>\n",
       "    <tr>\n",
       "      <th>16518672</th>\n",
       "      <td>132</td>\n",
       "      <td>0</td>\n",
       "      <td>2016-10-27 00:00:00</td>\n",
       "      <td>64.200</td>\n",
       "    </tr>\n",
       "  </tbody>\n",
       "</table>\n",
       "</div>"
      ],
      "text/plain": [
       "          building_id  meter            timestamp  meter_reading\n",
       "13651548          844      0  2016-09-06 04:00:00         20.100\n",
       "19446744          133      0  2016-12-18 10:00:00         55.700\n",
       "3629289            19      0  2016-03-09 11:00:00          0.000\n",
       "9566520          1003      1  2016-06-25 02:00:00        117.267\n",
       "16518672          132      0  2016-10-27 00:00:00         64.200"
      ]
     },
     "execution_count": 8,
     "metadata": {},
     "output_type": "execute_result"
    }
   ],
   "source": [
    "# Create own train and test set to estimate model performance\n",
    "split_train, split_test = train_test_split(train, test_size=0.1)\n",
    "split_test.head()"
   ]
  },
  {
   "cell_type": "code",
   "execution_count": 40,
   "metadata": {},
   "outputs": [
    {
     "data": {
      "text/plain": [
       "[21.0633,\n",
       " 55.863,\n",
       " 126.3557,\n",
       " 94.683,\n",
       " 52.4614,\n",
       " 158.8238,\n",
       " 415.0645,\n",
       " 174.2309,\n",
       " 485.1112,\n",
       " 0.4114]"
      ]
     },
     "execution_count": 40,
     "metadata": {},
     "output_type": "execute_result"
    }
   ],
   "source": [
    "# Find averages for building and meter in test set\n",
    "prediction = []\n",
    "for row in split_test.itertuples():\n",
    "    prediction.append(averages.loc[getattr(row, 'building_id')][getattr(row, 'meter')])\n",
    "    \n",
    "prediction[:10]"
   ]
  },
  {
   "cell_type": "code",
   "execution_count": null,
   "metadata": {},
   "outputs": [],
   "source": [
    "# Calculate error (Root Mean Squared Logarithmic Error)\n",
    "meter_reading = split_test['meter_reading']\n",
    "rmsle = np.sqrt(mean_squared_log_error(meter_reading, prediction))\n",
    "print(rmsle)"
   ]
  }
 ],
 "metadata": {
  "kernelspec": {
   "display_name": "Python 3",
   "language": "python",
   "name": "python3"
  },
  "language_info": {
   "codemirror_mode": {
    "name": "ipython",
    "version": 3
   },
   "file_extension": ".py",
   "mimetype": "text/x-python",
   "name": "python",
   "nbconvert_exporter": "python",
   "pygments_lexer": "ipython3",
   "version": "3.7.1"
  }
 },
 "nbformat": 4,
 "nbformat_minor": 2
}
